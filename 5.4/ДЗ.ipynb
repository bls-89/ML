{
 "cells": [
  {
   "cell_type": "markdown",
   "metadata": {},
   "source": [
    "КОД С ДОМАШНИМ ЗАДАНИЕМ! "
   ]
  },
  {
   "cell_type": "code",
   "execution_count": 40,
   "metadata": {
    "collapsed": false,
    "jupyter": {
     "outputs_hidden": false
    },
    "pycharm": {
     "name": "#%%\n"
    }
   },
   "outputs": [],
   "source": [
    "import torch\n",
    "import numpy as np\n",
    "import matplotlib.pyplot as plt\n",
    "from torchvision import datasets\n",
    "from torch.utils.data import DataLoader\n",
    "from torchvision.transforms import ToTensor\n",
    "from tqdm import tqdm\n",
    "import seaborn as sns\n",
    "from sklearn.metrics import classification_report"
   ]
  },
  {
   "cell_type": "markdown",
   "metadata": {
    "pycharm": {
     "name": "#%% md\n"
    }
   },
   "source": [
    "### Подготовка данных для использования\n",
    " - Получение Датасета\n",
    " - Получение Даталоадера\n",
    " - Просмотр данных"
   ]
  },
  {
   "cell_type": "code",
   "execution_count": 4,
   "metadata": {
    "collapsed": false,
    "jupyter": {
     "outputs_hidden": false
    },
    "pycharm": {
     "name": "#%%\n"
    }
   },
   "outputs": [],
   "source": [
    "train_dataset = datasets.MNIST(\n",
    "    root = './data',\n",
    "    train = True,\n",
    "    download = True,\n",
    "    transform=ToTensor()\n",
    ")\n",
    "test_dataset = datasets.MNIST(\n",
    "    root = './data',\n",
    "    train = False,\n",
    "    transform=ToTensor()\n",
    ")"
   ]
  },
  {
   "cell_type": "code",
   "execution_count": 5,
   "metadata": {
    "collapsed": false,
    "jupyter": {
     "outputs_hidden": false
    },
    "pycharm": {
     "name": "#%%\n"
    }
   },
   "outputs": [],
   "source": [
    "BATCH_SIZE = 64"
   ]
  },
  {
   "cell_type": "code",
   "execution_count": 6,
   "metadata": {
    "collapsed": false,
    "jupyter": {
     "outputs_hidden": false
    },
    "pycharm": {
     "name": "#%%\n"
    }
   },
   "outputs": [],
   "source": [
    "train_dataloader = DataLoader(train_dataset, batch_size=BATCH_SIZE, shuffle=True, drop_last=True)\n",
    "test_dataloader = DataLoader(test_dataset, batch_size=BATCH_SIZE, shuffle=True, drop_last=True)"
   ]
  },
  {
   "cell_type": "code",
   "execution_count": null,
   "metadata": {
    "collapsed": false,
    "jupyter": {
     "outputs_hidden": false
    },
    "pycharm": {
     "name": "#%%\n"
    }
   },
   "outputs": [
    {
     "data": {
      "text/plain": [
       "tensor([1, 3, 9, 4, 0, 9, 3, 3, 0, 8, 9, 8, 4, 6, 8, 7, 3, 1, 0, 7, 1, 6, 6, 0,\n",
       "        4, 0, 9, 4, 7, 1, 9, 3, 1, 0, 2, 5, 0, 7, 9, 7, 8, 6, 4, 7, 7, 5, 5, 7,\n",
       "        6, 4, 5, 9, 4, 1, 4, 6, 5, 5, 4, 7, 0, 6, 7, 9])"
      ]
     },
     "execution_count": 7,
     "metadata": {},
     "output_type": "execute_result"
    }
   ],
   "source": [
    "### Целевое значение\n",
    "next(iter(train_dataloader))[1]"
   ]
  },
  {
   "cell_type": "code",
   "execution_count": 8,
   "metadata": {
    "collapsed": false,
    "jupyter": {
     "outputs_hidden": false
    },
    "pycharm": {
     "name": "#%%\n"
    }
   },
   "outputs": [
    {
     "data": {
      "text/plain": [
       "torch.Size([64, 1, 28, 28])"
      ]
     },
     "execution_count": 8,
     "metadata": {},
     "output_type": "execute_result"
    }
   ],
   "source": [
    "### Torch tensor\n",
    "next(iter(train_dataloader))[0].shape"
   ]
  },
  {
   "cell_type": "code",
   "execution_count": 13,
   "metadata": {
    "collapsed": false,
    "jupyter": {
     "outputs_hidden": false
    },
    "pycharm": {
     "name": "#%%\n"
    }
   },
   "outputs": [
    {
     "data": {
      "text/plain": [
       "<matplotlib.image.AxesImage at 0x1cee6a40210>"
      ]
     },
     "execution_count": 13,
     "metadata": {},
     "output_type": "execute_result"
    },
    {
     "data": {
      "image/png": "[encoded data removed]",
      "text/plain": [
       "<Figure size 640x480 with 1 Axes>"
      ]
     },
     "metadata": {},
     "output_type": "display_data"
    }
   ],
   "source": [
    "for_show = next(iter(train_dataloader))[0]\n",
    "plt.imshow(for_show.numpy()[0][0])"
   ]
  },
  {
   "cell_type": "markdown",
   "metadata": {
    "pycharm": {
     "name": "#%% md\n"
    }
   },
   "source": [
    "### Построим нейронную сеть, чтобы для решения  МУЛЬТИКЛАССОВОЙ  задачи"
   ]
  },
  {
   "cell_type": "code",
   "execution_count": 26,
   "metadata": {
    "collapsed": false,
    "jupyter": {
     "outputs_hidden": false
    },
    "pycharm": {
     "name": "#%%\n"
    }
   },
   "outputs": [],
   "source": [
    "#добавим еще линейный слоёк))\n",
    "class IsTen(torch.nn.Module):\n",
    "    def __init__(self, neurons):\n",
    "        super().__init__()\n",
    "        self.layer1 = torch.nn.Linear(neurons[0], neurons[1])\n",
    "        self.layer2 = torch.nn.Linear(neurons[1], neurons[2])\n",
    "        self.layer3 = torch.nn.Linear(neurons[2], neurons[3])\n",
    "        self.layer4 = torch.nn.Linear(neurons[3], neurons[4])\n",
    "        self.relu = torch.nn.ReLU()\n",
    "        self.Softmax = torch.nn.Softmax(dim=1)\n",
    "\n",
    "    def forward(self, x):\n",
    "        x = x.squeeze(1)\n",
    "        x = x.flatten(1)\n",
    "        x = self.relu(self.layer1(x))\n",
    "        x = self.relu(self.layer2(x))\n",
    "        x = self.relu(self.layer3(x))\n",
    "        x = self.Softmax(self.layer4(x))\n",
    "        return x\n"
   ]
  },
  {
   "cell_type": "code",
   "execution_count": 27,
   "metadata": {
    "collapsed": false,
    "jupyter": {
     "outputs_hidden": false
    },
    "pycharm": {
     "name": "#%%\n"
    }
   },
   "outputs": [],
   "source": [
    "model = IsTen([28*28, 256, 128, 64, 10])"
   ]
  },
  {
   "cell_type": "markdown",
   "metadata": {
    "pycharm": {
     "name": "#%% md\n"
    }
   },
   "source": [
    "### Функция, вычисляющая лосс"
   ]
  },
  {
   "cell_type": "code",
   "execution_count": 52,
   "metadata": {
    "collapsed": false,
    "jupyter": {
     "outputs_hidden": false
    },
    "pycharm": {
     "name": "#%%\n"
    }
   },
   "outputs": [],
   "source": [
    "def loss_function(true, pred):\n",
    "    loss = torch.nn.CrossEntropyLoss()#функуия потерь для мультиклассовой задачи\n",
    "    return loss(pred, true)"
   ]
  },
  {
   "cell_type": "markdown",
   "metadata": {
    "pycharm": {
     "name": "#%% md\n"
    }
   },
   "source": [
    "### Оптимизатор"
   ]
  },
  {
   "cell_type": "code",
   "execution_count": 53,
   "metadata": {
    "collapsed": false,
    "jupyter": {
     "outputs_hidden": false
    },
    "pycharm": {
     "name": "#%%\n"
    }
   },
   "outputs": [],
   "source": [
    "optimizer = torch.optim.Adam(params = model.parameters(), lr = 1e-3)"
   ]
  },
  {
   "cell_type": "markdown",
   "metadata": {
    "pycharm": {
     "name": "#%% md\n"
    }
   },
   "source": [
    "### Построим процесс обучения нейронной сети"
   ]
  },
  {
   "cell_type": "code",
   "execution_count": 54,
   "metadata": {
    "collapsed": false,
    "jupyter": {
     "outputs_hidden": false
    },
    "pycharm": {
     "name": "#%%\n"
    }
   },
   "outputs": [],
   "source": [
    "NUM_EPOCHS = 100\n"
   ]
  },
  {
   "cell_type": "code",
   "execution_count": 55,
   "metadata": {
    "collapsed": false,
    "jupyter": {
     "outputs_hidden": false
    },
    "pycharm": {
     "name": "#%%\n"
    }
   },
   "outputs": [
    {
     "name": "stderr",
     "output_type": "stream",
     "text": [
      "100%|██████████| 100/100 [16:31<00:00,  9.92s/it]\n"
     ]
    }
   ],
   "source": [
    "train_loss = []\n",
    "test_loss = []\n",
    "for epoch in tqdm(range(NUM_EPOCHS)):\n",
    "    model.train(True)\n",
    "    train_loss_epoch = 0\n",
    "    test_loss_epoch = 0\n",
    "    for X, y in train_dataloader:\n",
    "        model.zero_grad()\n",
    "        true = y\n",
    "        predictions = model.forward(X)\n",
    "        loss_value = loss_function(true, predictions)\n",
    "        loss_value.backward()\n",
    "        train_loss_epoch += loss_value.item()/len(train_dataloader)\n",
    "        optimizer.step()\n",
    "    train_loss.append(train_loss_epoch)\n",
    "    model.train(False)\n",
    "    for X, y in test_dataloader:\n",
    "        true = y\n",
    "        predictions = model.forward(X)\n",
    "        loss_value = loss_function(true, predictions)\n",
    "        test_loss_epoch += loss_value.item()/len(test_dataloader)\n",
    "    test_loss.append(test_loss_epoch)\n"
   ]
  },
  {
   "cell_type": "code",
   "execution_count": 56,
   "metadata": {
    "collapsed": false,
    "jupyter": {
     "outputs_hidden": false
    },
    "pycharm": {
     "name": "#%%\n"
    }
   },
   "outputs": [
    {
     "data": {
      "text/plain": [
       "<Axes: >"
      ]
     },
     "execution_count": 56,
     "metadata": {},
     "output_type": "execute_result"
    },
    {
     "data": {
      "image/png": "[encoded data removed]",
      "text/plain": [
       "<Figure size 640x480 with 1 Axes>"
      ]
     },
     "metadata": {},
     "output_type": "display_data"
    }
   ],
   "source": [
    "sns.lineplot(train_loss,label='Train Loss')\n",
    "sns.lineplot(test_loss,label='Test Loss')"
   ]
  },
  {
   "cell_type": "code",
   "execution_count": 57,
   "metadata": {
    "collapsed": false,
    "jupyter": {
     "outputs_hidden": false
    },
    "pycharm": {
     "name": "#%%\n"
    }
   },
   "outputs": [
    {
     "name": "stdout",
     "output_type": "stream",
     "text": [
      "              precision    recall  f1-score   support\n",
      "\n",
      "           0       0.98      0.98      0.98       979\n",
      "           1       0.99      0.99      0.99      1135\n",
      "           2       0.97      0.98      0.97      1027\n",
      "           3       0.99      0.95      0.97      1009\n",
      "           4       0.98      0.97      0.97       981\n",
      "           5       0.97      0.97      0.97       892\n",
      "           6       0.97      0.99      0.98       956\n",
      "           7       0.99      0.97      0.98      1026\n",
      "           8       0.91      0.99      0.95       972\n",
      "           9       0.98      0.93      0.95      1007\n",
      "\n",
      "    accuracy                           0.97      9984\n",
      "   macro avg       0.97      0.97      0.97      9984\n",
      "weighted avg       0.97      0.97      0.97      9984\n",
      "\n"
     ]
    }
   ],
   "source": [
    "y_pred = []\n",
    "y_true = []\n",
    "for X, y in test_dataloader:\n",
    "    predictions = model.forward(X)\n",
    "    _, predicted = torch.max(predictions, 1)\n",
    "    y_pred.extend(predicted.tolist())\n",
    "    y_true.extend(y.tolist())\n",
    "\n",
    "# Создание отчета классификации\n",
    "print(classification_report(y_true, y_pred))"
   ]
  },
  {
   "cell_type": "markdown",
   "metadata": {},
   "source": [
    "чудесные результаты. И recall отличный и соответвенно f1 из-за этого очень хороший."
   ]
  },
  {
   "cell_type": "markdown",
   "metadata": {},
   "source": [
    "## добавим DROPOUT"
   ]
  },
  {
   "cell_type": "code",
   "execution_count": 58,
   "metadata": {},
   "outputs": [],
   "source": [
    "class IsTenDROP(torch.nn.Module):\n",
    "    def __init__(self, neurons):\n",
    "        super().__init__()\n",
    "        self.dropout = torch.nn.Dropout(0.3)\n",
    "        self.layer1 = torch.nn.Linear(neurons[0], neurons[1])\n",
    "        self.layer2 = torch.nn.Linear(neurons[1], neurons[2])\n",
    "        self.layer3 = torch.nn.Linear(neurons[2], neurons[3])\n",
    "        self.layer4 = torch.nn.Linear(neurons[3], neurons[4])\n",
    "        self.relu = torch.nn.ReLU()\n",
    "        self.Softmax = torch.nn.Softmax(dim=1)\n",
    "\n",
    "    def forward(self, x):\n",
    "        x = x.squeeze(1)\n",
    "        x = x.flatten(1)\n",
    "        x = self.dropout(x)\n",
    "        x = self.relu(self.layer1(x))\n",
    "        x = self.relu(self.layer2(x))\n",
    "        x = self.relu(self.layer3(x))\n",
    "        x = self.Softmax(self.layer4(x))\n",
    "        return x"
   ]
  },
  {
   "cell_type": "code",
   "execution_count": 59,
   "metadata": {},
   "outputs": [],
   "source": [
    "model = IsTenDROP([28*28, 256, 128, 64, 10])"
   ]
  },
  {
   "cell_type": "markdown",
   "metadata": {},
   "source": [
    "учим"
   ]
  },
  {
   "cell_type": "code",
   "execution_count": 60,
   "metadata": {},
   "outputs": [
    {
     "name": "stderr",
     "output_type": "stream",
     "text": [
      "100%|██████████| 100/100 [20:10<00:00, 12.10s/it]\n"
     ]
    }
   ],
   "source": [
    "train_loss = []\n",
    "test_loss = []\n",
    "for epoch in tqdm(range(NUM_EPOCHS)):\n",
    "    model.train(True)\n",
    "    train_loss_epoch = 0\n",
    "    test_loss_epoch = 0\n",
    "    for X, y in train_dataloader:\n",
    "        model.zero_grad()\n",
    "        true = y\n",
    "        predictions = model.forward(X)\n",
    "        loss_value = loss_function(true, predictions)\n",
    "        loss_value.backward()\n",
    "        train_loss_epoch += loss_value.item()/len(train_dataloader)\n",
    "        optimizer.step()\n",
    "    train_loss.append(train_loss_epoch)\n",
    "    model.train(False)\n",
    "    for X, y in test_dataloader:\n",
    "        true = y\n",
    "        predictions = model.forward(X)\n",
    "        loss_value = loss_function(true, predictions)\n",
    "        test_loss_epoch += loss_value.item()/len(test_dataloader)\n",
    "    test_loss.append(test_loss_epoch)\n"
   ]
  },
  {
   "cell_type": "markdown",
   "metadata": {},
   "source": [
    "смотрим изменения с Dropout"
   ]
  },
  {
   "cell_type": "code",
   "execution_count": 62,
   "metadata": {},
   "outputs": [
    {
     "data": {
      "text/plain": [
       "<Axes: >"
      ]
     },
     "execution_count": 62,
     "metadata": {},
     "output_type": "execute_result"
    },
    {
     "data": {
      "image/png": "[encoded data removed]",
      "text/plain": [
       "<Figure size 640x480 with 1 Axes>"
      ]
     },
     "metadata": {},
     "output_type": "display_data"
    }
   ],
   "source": [
    "sns.lineplot(train_loss,label='Train Loss')\n",
    "sns.lineplot(test_loss,label='Test Loss')"
   ]
  },
  {
   "cell_type": "code",
   "execution_count": 63,
   "metadata": {},
   "outputs": [
    {
     "name": "stdout",
     "output_type": "stream",
     "text": [
      "              precision    recall  f1-score   support\n",
      "\n",
      "           0       0.00      0.00      0.00       976\n",
      "           1       0.11      1.00      0.20      1135\n",
      "           2       0.00      0.00      0.00      1029\n",
      "           3       0.00      0.00      0.00      1009\n",
      "           4       0.00      0.00      0.00       982\n",
      "           5       0.00      0.00      0.00       891\n",
      "           6       0.00      0.00      0.00       957\n",
      "           7       0.00      0.00      0.00      1024\n",
      "           8       0.00      0.00      0.00       972\n",
      "           9       0.00      0.00      0.00      1009\n",
      "\n",
      "    accuracy                           0.11      9984\n",
      "   macro avg       0.01      0.10      0.02      9984\n",
      "weighted avg       0.01      0.11      0.02      9984\n",
      "\n"
     ]
    },
    {
     "name": "stderr",
     "output_type": "stream",
     "text": [
      "c:\\Users\\sever\\anaconda3\\Lib\\site-packages\\sklearn\\metrics\\_classification.py:1469: UndefinedMetricWarning: Precision and F-score are ill-defined and being set to 0.0 in labels with no predicted samples. Use `zero_division` parameter to control this behavior.\n",
      "  _warn_prf(average, modifier, msg_start, len(result))\n",
      "c:\\Users\\sever\\anaconda3\\Lib\\site-packages\\sklearn\\metrics\\_classification.py:1469: UndefinedMetricWarning: Precision and F-score are ill-defined and being set to 0.0 in labels with no predicted samples. Use `zero_division` parameter to control this behavior.\n",
      "  _warn_prf(average, modifier, msg_start, len(result))\n",
      "c:\\Users\\sever\\anaconda3\\Lib\\site-packages\\sklearn\\metrics\\_classification.py:1469: UndefinedMetricWarning: Precision and F-score are ill-defined and being set to 0.0 in labels with no predicted samples. Use `zero_division` parameter to control this behavior.\n",
      "  _warn_prf(average, modifier, msg_start, len(result))\n"
     ]
    }
   ],
   "source": [
    "y_pred = []\n",
    "y_true = []\n",
    "for X, y in test_dataloader:\n",
    "    predictions = model.forward(X)\n",
    "    _, predicted = torch.max(predictions, 1)\n",
    "    y_pred.extend(predicted.tolist())\n",
    "    y_true.extend(y.tolist())\n",
    "\n",
    "# Создание отчета классификации\n",
    "print(classification_report(y_true, y_pred))"
   ]
  },
  {
   "cell_type": "markdown",
   "metadata": {},
   "source": [
    "## вывод\n",
    "\n",
    "Проклятый дропаут поломал всю сеть к черту) поборолся с переобучением капитально и кардинально) Без дропаута сеть показывала отличные результаты - и переобучения не было. с дропаутом проще вслух говорить рандомные наименования цифр и чаще будешь попадать в правильный результа чем эта чудесная нейросеть)\n",
    "\n",
    "Вообще дропаут помогал бороться с переобучением, но не в этот раз)"
   ]
  },
  {
   "cell_type": "markdown",
   "metadata": {},
   "source": [
    "### Домашняя работа\n",
    "Изменить нейронную сеть следующим образом:\n",
    " - Чтобы она решала задачу не бинарной классификации, а многоклассовой (Для этого нужно использовать другую лосс функцию и функцию активации на выходе)\n",
    " - Чтобы в ней было не 2 скрытых слоя, а три\n",
    " - Чтобы кол-во нейронов подставлялось через массив, поданный при инициализации класса модели\n",
    " - Чтобы происходил dropout (вероятность 0.3) до первого скрытого слоя. Показать, как это изменение повлияло на результат работы модели на тестовой выборке.\n",
    " - Посчитать метрики классификации через classification report (sklearn) для каждого класса"
   ]
  }
 ],
 "metadata": {
  "kernelspec": {
   "display_name": "Python 3 (ipykernel)",
   "language": "python",
   "name": "python3"
  },
  "language_info": {
   "codemirror_mode": {
    "name": "ipython",
    "version": 3
   },
   "file_extension": ".py",
   "mimetype": "text/x-python",
   "name": "python",
   "nbconvert_exporter": "python",
   "pygments_lexer": "ipython3",
   "version": "3.11.5"
  }
 },
 "nbformat": 4,
 "nbformat_minor": 4
}
